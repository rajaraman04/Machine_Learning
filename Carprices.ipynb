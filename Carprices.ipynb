{
 "cells": [
  {
   "cell_type": "code",
   "execution_count": 1,
   "id": "5dc12256-61dc-4a0d-ab6d-d75ab4cb197f",
   "metadata": {},
   "outputs": [],
   "source": [
    "import numpy as np\n",
    "import pandas as pd\n",
    "import matplotlib.pyplot as plt\n"
   ]
  },
  {
   "cell_type": "code",
   "execution_count": 2,
   "id": "74a50d27-cc3b-4034-8111-ac44b61175e8",
   "metadata": {},
   "outputs": [
    {
     "data": {
      "text/html": [
       "<div>\n",
       "<style scoped>\n",
       "    .dataframe tbody tr th:only-of-type {\n",
       "        vertical-align: middle;\n",
       "    }\n",
       "\n",
       "    .dataframe tbody tr th {\n",
       "        vertical-align: top;\n",
       "    }\n",
       "\n",
       "    .dataframe thead th {\n",
       "        text-align: right;\n",
       "    }\n",
       "</style>\n",
       "<table border=\"1\" class=\"dataframe\">\n",
       "  <thead>\n",
       "    <tr style=\"text-align: right;\">\n",
       "      <th></th>\n",
       "      <th>Car_Model</th>\n",
       "      <th>Mileage</th>\n",
       "      <th>Sell_Price</th>\n",
       "      <th>Age</th>\n",
       "    </tr>\n",
       "  </thead>\n",
       "  <tbody>\n",
       "    <tr>\n",
       "      <th>0</th>\n",
       "      <td>BMW X5</td>\n",
       "      <td>69000</td>\n",
       "      <td>18000</td>\n",
       "      <td>6</td>\n",
       "    </tr>\n",
       "    <tr>\n",
       "      <th>1</th>\n",
       "      <td>BMW X5</td>\n",
       "      <td>35000</td>\n",
       "      <td>34000</td>\n",
       "      <td>3</td>\n",
       "    </tr>\n",
       "    <tr>\n",
       "      <th>2</th>\n",
       "      <td>BMW X5</td>\n",
       "      <td>57000</td>\n",
       "      <td>26100</td>\n",
       "      <td>5</td>\n",
       "    </tr>\n",
       "    <tr>\n",
       "      <th>3</th>\n",
       "      <td>BMW X5</td>\n",
       "      <td>22500</td>\n",
       "      <td>40000</td>\n",
       "      <td>2</td>\n",
       "    </tr>\n",
       "    <tr>\n",
       "      <th>4</th>\n",
       "      <td>BMW X5</td>\n",
       "      <td>46000</td>\n",
       "      <td>31500</td>\n",
       "      <td>4</td>\n",
       "    </tr>\n",
       "    <tr>\n",
       "      <th>5</th>\n",
       "      <td>Audi A5</td>\n",
       "      <td>59000</td>\n",
       "      <td>29400</td>\n",
       "      <td>5</td>\n",
       "    </tr>\n",
       "    <tr>\n",
       "      <th>6</th>\n",
       "      <td>Audi A5</td>\n",
       "      <td>52000</td>\n",
       "      <td>32000</td>\n",
       "      <td>5</td>\n",
       "    </tr>\n",
       "    <tr>\n",
       "      <th>7</th>\n",
       "      <td>Audi A5</td>\n",
       "      <td>72000</td>\n",
       "      <td>19300</td>\n",
       "      <td>6</td>\n",
       "    </tr>\n",
       "    <tr>\n",
       "      <th>8</th>\n",
       "      <td>Audi A5</td>\n",
       "      <td>91000</td>\n",
       "      <td>12000</td>\n",
       "      <td>8</td>\n",
       "    </tr>\n",
       "    <tr>\n",
       "      <th>9</th>\n",
       "      <td>Mercedez Benz C class</td>\n",
       "      <td>67000</td>\n",
       "      <td>22000</td>\n",
       "      <td>6</td>\n",
       "    </tr>\n",
       "    <tr>\n",
       "      <th>10</th>\n",
       "      <td>Mercedez Benz C class</td>\n",
       "      <td>83000</td>\n",
       "      <td>20000</td>\n",
       "      <td>7</td>\n",
       "    </tr>\n",
       "    <tr>\n",
       "      <th>11</th>\n",
       "      <td>Mercedez Benz C class</td>\n",
       "      <td>79000</td>\n",
       "      <td>21000</td>\n",
       "      <td>7</td>\n",
       "    </tr>\n",
       "    <tr>\n",
       "      <th>12</th>\n",
       "      <td>Mercedez Benz C class</td>\n",
       "      <td>59000</td>\n",
       "      <td>33000</td>\n",
       "      <td>5</td>\n",
       "    </tr>\n",
       "  </tbody>\n",
       "</table>\n",
       "</div>"
      ],
      "text/plain": [
       "                Car_Model  Mileage  Sell_Price  Age\n",
       "0                  BMW X5    69000       18000    6\n",
       "1                  BMW X5    35000       34000    3\n",
       "2                  BMW X5    57000       26100    5\n",
       "3                  BMW X5    22500       40000    2\n",
       "4                  BMW X5    46000       31500    4\n",
       "5                 Audi A5    59000       29400    5\n",
       "6                 Audi A5    52000       32000    5\n",
       "7                 Audi A5    72000       19300    6\n",
       "8                 Audi A5    91000       12000    8\n",
       "9   Mercedez Benz C class    67000       22000    6\n",
       "10  Mercedez Benz C class    83000       20000    7\n",
       "11  Mercedez Benz C class    79000       21000    7\n",
       "12  Mercedez Benz C class    59000       33000    5"
      ]
     },
     "execution_count": 2,
     "metadata": {},
     "output_type": "execute_result"
    }
   ],
   "source": [
    "df=pd.read_csv(\"D:/Python/carprices.csv\")\n",
    "df"
   ]
  },
  {
   "cell_type": "code",
   "execution_count": null,
   "id": "abcc6e07-aa27-4ee3-841e-64224a75cb64",
   "metadata": {},
   "outputs": [],
   "source": [
    "dummies=pd.get_dummies(df.Car_Model)\n",
    "dummies"
   ]
  },
  {
   "cell_type": "code",
   "execution_count": null,
   "id": "a4003a23-445d-4394-87ed-a6f17192e354",
   "metadata": {},
   "outputs": [],
   "source": [
    "merge=pd.concat([df,dummies],axis='columns')\n",
    "merge"
   ]
  },
  {
   "cell_type": "code",
   "execution_count": null,
   "id": "924b638a-abc1-4c69-9905-01174172f931",
   "metadata": {},
   "outputs": [],
   "source": [
    "fin=merge.drop(['Car_Model','Mercedez Benz C class'],axis='columns')\n",
    "fin"
   ]
  },
  {
   "cell_type": "code",
   "execution_count": null,
   "id": "f352cf5b-6a5a-43c0-8938-1d36b40456b7",
   "metadata": {},
   "outputs": [],
   "source": [
    "from sklearn.linear_model import LinearRegression\n",
    "reg=LinearRegression()\n",
    "\n"
   ]
  },
  {
   "cell_type": "code",
   "execution_count": null,
   "id": "a82e25ef-28f4-4014-91d3-98c6b7e8b1cc",
   "metadata": {},
   "outputs": [],
   "source": [
    "X=fin.drop('Sell_Price',axis='columns')"
   ]
  },
  {
   "cell_type": "code",
   "execution_count": null,
   "id": "8470b2f6-66f1-4b1b-952b-51dd62b658b4",
   "metadata": {},
   "outputs": [],
   "source": [
    "Y=fin.Sell_Price\n",
    "Y"
   ]
  },
  {
   "cell_type": "code",
   "execution_count": null,
   "id": "93b4f767-14ba-4501-9750-9be442102e6d",
   "metadata": {},
   "outputs": [],
   "source": [
    "reg.fit(X,Y)"
   ]
  },
  {
   "cell_type": "code",
   "execution_count": null,
   "id": "82388f7a-fa66-4e98-afb2-a373ae5a4963",
   "metadata": {},
   "outputs": [],
   "source": [
    "reg.predict([[45000,4,0,0]])"
   ]
  },
  {
   "cell_type": "code",
   "execution_count": null,
   "id": "fd5d463b-8c20-4170-a3f0-a21c13b45d21",
   "metadata": {},
   "outputs": [],
   "source": [
    "reg.score(X,Y)"
   ]
  },
  {
   "cell_type": "code",
   "execution_count": null,
   "id": "ac6bd026-6465-4363-ad94-da4adbfded58",
   "metadata": {},
   "outputs": [],
   "source": [
    "reg.predict([[86000,7,0,1]])"
   ]
  },
  {
   "cell_type": "code",
   "execution_count": null,
   "id": "dd77d31b-8f1b-4b76-a067-69f83996f92d",
   "metadata": {},
   "outputs": [],
   "source": [
    "reg.predict([[90000,1,1,0]])"
   ]
  },
  {
   "cell_type": "raw",
   "id": "67db149e-1913-400b-a286-0f1027a7a88b",
   "metadata": {},
   "source": [
    "reg.score(X,Y)"
   ]
  },
  {
   "cell_type": "code",
   "execution_count": null,
   "id": "25bacfa2-e07d-414e-9b15-4ccdc7c4dcfb",
   "metadata": {},
   "outputs": [],
   "source": [
    "%matplotlib inline\n",
    "plt.scatter(df['Mileage'],df['Sell_Price'])"
   ]
  },
  {
   "cell_type": "code",
   "execution_count": null,
   "id": "0cadc469-a0df-40a7-b5a2-d6168743bb18",
   "metadata": {},
   "outputs": [],
   "source": [
    "plt.scatter(df['Age'],df['Sell_Price'])"
   ]
  },
  {
   "cell_type": "code",
   "execution_count": null,
   "id": "f4c5b789-67f6-458f-b8fa-975988704ff6",
   "metadata": {},
   "outputs": [],
   "source": [
    "X=df[['Mileage','Age']]\n",
    "Y=df['Sell_Price']"
   ]
  },
  {
   "cell_type": "code",
   "execution_count": null,
   "id": "900c8842-5907-45ab-9288-5a0cd5f9d9b1",
   "metadata": {},
   "outputs": [],
   "source": [
    "from sklearn.model_selection import train_test_split"
   ]
  },
  {
   "cell_type": "code",
   "execution_count": null,
   "id": "d10c7f9f-ffa4-4c87-b1a2-dc6da9f01523",
   "metadata": {},
   "outputs": [],
   "source": [
    "X_train,X_test,Y_train,Y_test=train_test_split(X,Y,test_size=0.2,random_state=10)"
   ]
  },
  {
   "cell_type": "code",
   "execution_count": null,
   "id": "dcb279a3-40b3-4b9d-b918-7d8aaa36e278",
   "metadata": {},
   "outputs": [],
   "source": [
    "X_train"
   ]
  },
  {
   "cell_type": "code",
   "execution_count": null,
   "id": "fd997bde-a2ef-4075-9dc2-9b9bf1e66fb9",
   "metadata": {},
   "outputs": [],
   "source": [
    "from sklearn.linear_model import LinearRegression\n",
    "reg=LinearRegression()"
   ]
  },
  {
   "cell_type": "code",
   "execution_count": null,
   "id": "bd4cbf73-5de2-4ec0-987d-8c6760dc7b57",
   "metadata": {},
   "outputs": [],
   "source": [
    "reg.fit(X_train,Y_train)"
   ]
  },
  {
   "cell_type": "code",
   "execution_count": null,
   "id": "9c52af64-2232-44bc-ad5f-9dabf91ba3aa",
   "metadata": {},
   "outputs": [],
   "source": [
    "reg.predict(X_test)"
   ]
  },
  {
   "cell_type": "code",
   "execution_count": null,
   "id": "f15079d6-2822-4047-84e6-7b89cd8a7fe4",
   "metadata": {},
   "outputs": [],
   "source": [
    "Y_test"
   ]
  },
  {
   "cell_type": "code",
   "execution_count": null,
   "id": "1c9878c3-ca1a-43f6-9b7f-b6c3926fc77d",
   "metadata": {},
   "outputs": [],
   "source": [
    "reg.score(X_test,Y_test)"
   ]
  },
  {
   "cell_type": "code",
   "execution_count": null,
   "id": "88ddae37-924d-40be-a76a-a3fb7f34d2ef",
   "metadata": {},
   "outputs": [],
   "source": []
  }
 ],
 "metadata": {
  "kernelspec": {
   "display_name": "Python 3 (ipykernel)",
   "language": "python",
   "name": "python3"
  },
  "language_info": {
   "codemirror_mode": {
    "name": "ipython",
    "version": 3
   },
   "file_extension": ".py",
   "mimetype": "text/x-python",
   "name": "python",
   "nbconvert_exporter": "python",
   "pygments_lexer": "ipython3",
   "version": "3.11.1"
  }
 },
 "nbformat": 4,
 "nbformat_minor": 5
}
